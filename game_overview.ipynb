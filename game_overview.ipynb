{
  "nbformat": 4,
  "nbformat_minor": 0,
  "metadata": {
    "colab": {
      "name": "Untitled1.ipynb",
      "private_outputs": true,
      "provenance": [],
      "authorship_tag": "ABX9TyN0LI09MZ6ny+r+hifInnNX",
      "include_colab_link": true
    },
    "kernelspec": {
      "name": "python3",
      "display_name": "Python 3"
    },
    "language_info": {
      "name": "python"
    }
  },
  "cells": [
    {
      "cell_type": "markdown",
      "metadata": {
        "id": "view-in-github",
        "colab_type": "text"
      },
      "source": [
        "<a href=\"https://colab.research.google.com/github/Porconcello/Project-1.-Predict-Number/blob/main/game_overview.ipynb\" target=\"_parent\"><img src=\"https://colab.research.google.com/assets/colab-badge.svg\" alt=\"Open In Colab\"/></a>"
      ]
    },
    {
      "cell_type": "code",
      "execution_count": null,
      "metadata": {
        "id": "YWziSLFon0VZ"
      },
      "outputs": [],
      "source": [
        "import numpy as np\n",
        "\n",
        "\n",
        "def random_predict(number:int=1)->int:\n",
        "    \"\"\"Рандомно угадываем число, двигаясь в нужном направлении\n",
        "\n",
        "    Args:\n",
        "        number (int, optional): Загаданное число. Defaults to 1.\n",
        "\n",
        "    Returns:\n",
        "        int: Число попыток\n",
        "    \"\"\"\n",
        "    count = 0\n",
        "    min_value = 1\n",
        "    max_value = 101\n",
        "    while True:\n",
        "        count += 1\n",
        "        predict_number = np.random.randint(min_value,max_value) #предполагаемое число\n",
        "        if number == predict_number:\n",
        "            break #выход из цикла, угадали\n",
        "        elif number>predict_number:\n",
        "            min_value = predict_number\n",
        "        elif number<predict_number:\n",
        "            max_value=predict_number \n",
        "    return count\n",
        "\n",
        "\n",
        "def score_game(random_predict)->int:\n",
        "    \"\"\"За какое количество попыток в среднем из 1000 подходов угадывает наш алгоритм\n",
        "\n",
        "    Args:\n",
        "        random_predict (_type_): функция угадывания\n",
        "\n",
        "    Returns:\n",
        "        int: среднее количество попыток\n",
        "    \"\"\"\n",
        "    \n",
        "    count_ls = []\n",
        "    np.random.seed(1)\n",
        "    random_array = np.random.randint(1, 101, size=1000)\n",
        "    \n",
        "    for number in random_array:\n",
        "        count_ls.append(random_predict(number))\n",
        "        \n",
        "    score = int(np.mean(count_ls))\n",
        "    print(f'Алгоритм угадывает число в среднем за {score} попыток')"
      ]
    },
    {
      "cell_type": "markdown",
      "source": [
        "Угадываем одно число"
      ],
      "metadata": {
        "id": "wQ8oVYgMn6hq"
      }
    },
    {
      "cell_type": "code",
      "source": [
        "number = np.random.randint(1,101)\n",
        "print('Угадали число {} за {} попыток'.format(number, random_predict(number)))\n"
      ],
      "metadata": {
        "id": "Bi2kz8hooBrp"
      },
      "execution_count": null,
      "outputs": []
    },
    {
      "cell_type": "markdown",
      "source": [
        "Считаем статистику угадывания за 1000 попыток"
      ],
      "metadata": {
        "id": "A-drIWwmon7q"
      }
    },
    {
      "cell_type": "code",
      "source": [
        "score_game(random_predict)"
      ],
      "metadata": {
        "id": "bx0bCiruouV1"
      },
      "execution_count": null,
      "outputs": []
    }
  ]
}